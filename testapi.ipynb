{
 "cells": [
  {
   "cell_type": "code",
   "execution_count": null,
   "metadata": {},
   "outputs": [],
   "source": [
    "!pip install openai"
   ]
  },
  {
   "cell_type": "code",
   "execution_count": 2,
   "metadata": {},
   "outputs": [
    {
     "name": "stdout",
     "output_type": "stream",
     "text": [
      "ChatCompletionMessage(content=\"Planning a trip to London can be an exciting experience! Below is a suggested itinerary along with some of the best places to visit in the city.\\n\\n### Trip Duration: 5 Days\\n\\n#### Day 1: Explore Historical Landmarks\\n- **The Tower of London**: Start your trip with a visit to this historic castle. Don't miss the Crown Jewels.\\n- **Tower Bridge**: Walk across this iconic drawbridge and visit the exhibition inside.\\n- **The Shard**: Head over to The Shard for stunning panoramic views of the city. Consider booking a ticket for sunset.\\n- **Dinner in Borough Market**: Enjoy a variety of street food options for dinner.\\n\\n#### Day 2: Royal Attractions\\n- **Buckingham Palace**: Watch the Changing of the Guard ceremony (check the schedule beforehand).\\n- **St. James's Park**: Take a leisurely stroll through one of the Royal Parks.\\n- **Westminster Abbey**: Visit this magnificent church, a UNESCO World Heritage site.\\n- **Houses of Parliament and Big Ben**: Get a photo of the iconic clock tower and visit the exterior of the Parliament.\\n- **London Eye**: End your day with a ride on the London Eye for beautiful views of the city at night.\\n\\n#### Day 3: Museums and Culture\\n- **British Museum**: Discover a vast collection of world art and artifacts; entry is free.\\n- **Covent Garden**: Walk around, enjoy street performances, and have lunch in this vibrant area.\\n- **Trafalgar Square**: Visit the National Gallery, which houses a rich collection of Western European paintings.\\n- **Soho and Chinatown**: Explore the diverse eateries and nightlife in Soho and stop for dinner in Chinatown.\\n\\n#### Day 4: Modern London\\n- **The Tate Modern**: Visit this contemporary art museum located in a former power station.\\n- **Borough Market**: For lunch, enjoy the fantastic food stalls.\\n- **Shakespeare’s Globe Theatre**: Take a guided tour or see if you can catch a performance.\\n- **Southbank**: Walk along the Southbank of the Thames, enjoying street performers and taking in views of landmarks.\\n\\n#### Day 5: Markets and Neighborhoods\\n- **Camden Market**: Explore this eclectic neighborhood known for its vibrant market and alternative fashion.\\n- **Regent's Park**: Take a relaxing break and enjoy beautiful gardens.\\n- **Notting Hill**: Check out the colorful houses and perhaps visit Portobello Road Market, famous for antiques and food.\\n- **Dinner in the West End**: Finish your trip with a dinner at a local restaurant followed by a West End show.\\n\\n### Tips for Your Trip\\n- **Public Transport**: Get an Oyster Card or use a contactless payment card for easy access on the Tube and buses.\\n- **Weather**: Check the weather before you go; London can be rainy and changeable.\\n- **Reservations**: Book museum tickets and shows in advance to avoid long queues.\\n- **Local Customs**: Be polite; saying “please” and “thank you” goes a long way!\\n\\n### Additional Places to Consider\\n- **Kensington Palace**: For royal history enthusiasts.\\n- **The Victoria and Albert Museum**: For art and design lovers.\\n- **Greenwich**: Visit the Royal Observatory and enjoy a riverside walk.\\n- **Street Art in Shoreditch**: Explore this trendy area known for its vibrant street art.\\n\\nWith this itinerary and recommendations, you should have a fantastic time exploring London! Enjoy your trip!\", refusal=None, role='assistant', audio=None, function_call=None, tool_calls=None)\n"
     ]
    }
   ],
   "source": [
    "from openai import OpenAI\n",
    "client = OpenAI()\n",
    "\n",
    "completion = client.chat.completions.create(\n",
    "    model=\"gpt-4o-mini\",\n",
    "    messages=[\n",
    "        {\"role\": \"system\", \"content\": \"You are a helpful assistant.\"},\n",
    "        {\n",
    "            \"role\": \"user\",\n",
    "            \"content\": \"Plan my trip to London and tell me the best places to visit.\"\n",
    "        }\n",
    "    ]\n",
    ")\n",
    "\n",
    "print(completion.choices[0].message)"
   ]
  }
 ],
 "metadata": {
  "kernelspec": {
   "display_name": "ag",
   "language": "python",
   "name": "python3"
  },
  "language_info": {
   "codemirror_mode": {
    "name": "ipython",
    "version": 3
   },
   "file_extension": ".py",
   "mimetype": "text/x-python",
   "name": "python",
   "nbconvert_exporter": "python",
   "pygments_lexer": "ipython3",
   "version": "3.9.18"
  }
 },
 "nbformat": 4,
 "nbformat_minor": 2
}
